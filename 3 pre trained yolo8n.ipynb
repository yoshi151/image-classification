{
 "cells": [
  {
   "cell_type": "code",
   "execution_count": 1,
   "id": "22525355-f86c-4fa7-ba30-51c2e1f27b4a",
   "metadata": {},
   "outputs": [
    {
     "name": "stdout",
     "output_type": "stream",
     "text": [
      "New https://pypi.org/project/ultralytics/8.2.36 available  Update with 'pip install -U ultralytics'\n",
      "Ultralytics YOLOv8.2.35  Python-3.9.19 torch-2.3.1+cpu CPU (11th Gen Intel Core(TM) i5-1155G7 2.50GHz)\n",
      "\u001b[34m\u001b[1mengine\\trainer: \u001b[0mtask=classify, mode=train, model=yolov8n-cls.pt, data=dogdata, epochs=2, time=None, patience=100, batch=16, imgsz=64, save=True, save_period=-1, cache=False, device=None, workers=8, project=None, name=train2, exist_ok=False, pretrained=True, optimizer=auto, verbose=True, seed=0, deterministic=True, single_cls=False, rect=False, cos_lr=False, close_mosaic=10, resume=False, amp=True, fraction=1.0, profile=False, freeze=None, multi_scale=False, overlap_mask=True, mask_ratio=4, dropout=0.0, val=True, split=val, save_json=False, save_hybrid=False, conf=None, iou=0.7, max_det=300, half=False, dnn=False, plots=True, source=None, vid_stride=1, stream_buffer=False, visualize=False, augment=False, agnostic_nms=False, classes=None, retina_masks=False, embed=None, show=False, save_frames=False, save_txt=False, save_conf=False, save_crop=False, show_labels=True, show_conf=True, show_boxes=True, line_width=None, format=torchscript, keras=False, optimize=False, int8=False, dynamic=False, simplify=False, opset=None, workspace=4, nms=False, lr0=0.01, lrf=0.01, momentum=0.937, weight_decay=0.0005, warmup_epochs=3.0, warmup_momentum=0.8, warmup_bias_lr=0.1, box=7.5, cls=0.5, dfl=1.5, pose=12.0, kobj=1.0, label_smoothing=0.0, nbs=64, hsv_h=0.015, hsv_s=0.7, hsv_v=0.4, degrees=0.0, translate=0.1, scale=0.5, shear=0.0, perspective=0.0, flipud=0.0, fliplr=0.5, bgr=0.0, mosaic=1.0, mixup=0.0, copy_paste=0.0, auto_augment=randaugment, erasing=0.4, crop_fraction=1.0, cfg=None, tracker=botsort.yaml, save_dir=C:\\Users\\trueh\\Downloads\\object-detection\\ultralytics\\runs\\classify\\train2\n",
      "\u001b[34m\u001b[1mtrain:\u001b[0m C:\\Users\\trueh\\Downloads\\image-classification\\dogdata\\train... found 8344 images in 120 classes  \n",
      "\u001b[34m\u001b[1mval:\u001b[0m C:\\Users\\trueh\\Downloads\\image-classification\\dogdata\\validation... found 2220 images in 120 classes  \n",
      "\u001b[34m\u001b[1mtest:\u001b[0m None...\n",
      "Overriding model.yaml nc=1000 with nc=120\n",
      "\n",
      "                   from  n    params  module                                       arguments                     \n",
      "  0                  -1  1       464  ultralytics.nn.modules.conv.Conv             [3, 16, 3, 2]                 \n",
      "  1                  -1  1      4672  ultralytics.nn.modules.conv.Conv             [16, 32, 3, 2]                \n",
      "  2                  -1  1      7360  ultralytics.nn.modules.block.C2f             [32, 32, 1, True]             \n",
      "  3                  -1  1     18560  ultralytics.nn.modules.conv.Conv             [32, 64, 3, 2]                \n",
      "  4                  -1  2     49664  ultralytics.nn.modules.block.C2f             [64, 64, 2, True]             \n",
      "  5                  -1  1     73984  ultralytics.nn.modules.conv.Conv             [64, 128, 3, 2]               \n",
      "  6                  -1  2    197632  ultralytics.nn.modules.block.C2f             [128, 128, 2, True]           \n",
      "  7                  -1  1    295424  ultralytics.nn.modules.conv.Conv             [128, 256, 3, 2]              \n",
      "  8                  -1  1    460288  ultralytics.nn.modules.block.C2f             [256, 256, 1, True]           \n",
      "  9                  -1  1    483960  ultralytics.nn.modules.head.Classify         [256, 120]                    \n",
      "YOLOv8n-cls summary: 99 layers, 1592008 parameters, 1592008 gradients, 3.5 GFLOPs\n",
      "Transferred 156/158 items from pretrained weights\n",
      "\u001b[34m\u001b[1mTensorBoard: \u001b[0mStart with 'tensorboard --logdir C:\\Users\\trueh\\Downloads\\object-detection\\ultralytics\\runs\\classify\\train2', view at http://localhost:6006/\n"
     ]
    },
    {
     "name": "stderr",
     "output_type": "stream",
     "text": [
      "\u001b[34m\u001b[1mtrain: \u001b[0mScanning C:\\Users\\trueh\\Downloads\\image-classification\\dogdata\\train... 8344 images, 0 corrupt: 100%|██████████| 8344/8344 [00:00<?, ?it/s]\n",
      "\u001b[34m\u001b[1mval: \u001b[0mScanning C:\\Users\\trueh\\Downloads\\image-classification\\dogdata\\validation... 2220 images, 0 corrupt: 100%|██████████| 2220/2220 [00:00<?, ?it/s]"
     ]
    },
    {
     "name": "stdout",
     "output_type": "stream",
     "text": [
      "\u001b[34m\u001b[1moptimizer:\u001b[0m 'optimizer=auto' found, ignoring 'lr0=0.01' and 'momentum=0.937' and determining best 'optimizer', 'lr0' and 'momentum' automatically... \n",
      "\u001b[34m\u001b[1moptimizer:\u001b[0m AdamW(lr=0.000714, momentum=0.9) with parameter groups 26 weight(decay=0.0), 27 weight(decay=0.0005), 27 bias(decay=0.0)\n"
     ]
    },
    {
     "name": "stderr",
     "output_type": "stream",
     "text": [
      "\n"
     ]
    },
    {
     "name": "stdout",
     "output_type": "stream",
     "text": [
      "\u001b[34m\u001b[1mTensorBoard: \u001b[0mmodel graph visualization added \n",
      "Image sizes 64 train, 64 val\n",
      "Using 0 dataloader workers\n",
      "Logging results to \u001b[1mC:\\Users\\trueh\\Downloads\\object-detection\\ultralytics\\runs\\classify\\train2\u001b[0m\n",
      "Starting training for 2 epochs...\n",
      "\n",
      "      Epoch    GPU_mem       loss  Instances       Size\n"
     ]
    },
    {
     "name": "stderr",
     "output_type": "stream",
     "text": [
      "        1/2         0G      4.736          8         64: 100%|██████████| 522/522 [02:34<00:00,  3.38it/s]\n",
      "               classes   top1_acc   top5_acc: 100%|██████████| 70/70 [00:23<00:00,  3.00it/s]"
     ]
    },
    {
     "name": "stdout",
     "output_type": "stream",
     "text": [
      "                   all      0.077      0.246\n"
     ]
    },
    {
     "name": "stderr",
     "output_type": "stream",
     "text": [
      "\n"
     ]
    },
    {
     "name": "stdout",
     "output_type": "stream",
     "text": [
      "\n",
      "      Epoch    GPU_mem       loss  Instances       Size\n"
     ]
    },
    {
     "name": "stderr",
     "output_type": "stream",
     "text": [
      "        2/2         0G      4.057          8         64: 100%|██████████| 522/522 [01:58<00:00,  4.41it/s]\n",
      "               classes   top1_acc   top5_acc: 100%|██████████| 70/70 [00:14<00:00,  4.95it/s]"
     ]
    },
    {
     "name": "stdout",
     "output_type": "stream",
     "text": [
      "                   all      0.154      0.414\n"
     ]
    },
    {
     "name": "stderr",
     "output_type": "stream",
     "text": [
      "\n"
     ]
    },
    {
     "name": "stdout",
     "output_type": "stream",
     "text": [
      "\n",
      "2 epochs completed in 0.087 hours.\n",
      "Optimizer stripped from C:\\Users\\trueh\\Downloads\\object-detection\\ultralytics\\runs\\classify\\train2\\weights\\last.pt, 3.3MB\n",
      "Optimizer stripped from C:\\Users\\trueh\\Downloads\\object-detection\\ultralytics\\runs\\classify\\train2\\weights\\best.pt, 3.3MB\n",
      "\n",
      "Validating C:\\Users\\trueh\\Downloads\\object-detection\\ultralytics\\runs\\classify\\train2\\weights\\best.pt...\n",
      "Ultralytics YOLOv8.2.35  Python-3.9.19 torch-2.3.1+cpu CPU (11th Gen Intel Core(TM) i5-1155G7 2.50GHz)\n",
      "YOLOv8n-cls summary (fused): 73 layers, 1588600 parameters, 0 gradients, 3.4 GFLOPs\n",
      "\u001b[34m\u001b[1mtrain:\u001b[0m C:\\Users\\trueh\\Downloads\\image-classification\\dogdata\\train... found 8344 images in 120 classes  \n",
      "\u001b[34m\u001b[1mval:\u001b[0m C:\\Users\\trueh\\Downloads\\image-classification\\dogdata\\validation... found 2220 images in 120 classes  \n",
      "\u001b[34m\u001b[1mtest:\u001b[0m None...\n"
     ]
    },
    {
     "name": "stderr",
     "output_type": "stream",
     "text": [
      "               classes   top1_acc   top5_acc: 100%|██████████| 70/70 [00:14<00:00,  4.83it/s]\n"
     ]
    },
    {
     "name": "stdout",
     "output_type": "stream",
     "text": [
      "                   all      0.154      0.414\n",
      "Speed: 0.0ms preprocess, 1.4ms inference, 0.0ms loss, 0.0ms postprocess per image\n",
      "Results saved to \u001b[1mC:\\Users\\trueh\\Downloads\\object-detection\\ultralytics\\runs\\classify\\train2\u001b[0m\n",
      "Results saved to \u001b[1mC:\\Users\\trueh\\Downloads\\object-detection\\ultralytics\\runs\\classify\\train2\u001b[0m\n"
     ]
    }
   ],
   "source": [
    "from ultralytics import YOLO\n",
    "# Load a model\n",
    "model = YOLO(\"yolov8n-cls.pt\")  # load a pretrained model (recommended for training)\n",
    "# Train the model\n",
    "results = model.train(data=\"dogdata\", epochs=2, imgsz=640)"
   ]
  },
  {
   "cell_type": "code",
   "execution_count": 5,
   "id": "00e3b0f3-ab4e-4e19-8204-2ab44413e521",
   "metadata": {},
   "outputs": [
    {
     "name": "stdout",
     "output_type": "stream",
     "text": [
      "\n",
      "image 1/1 C:\\Users\\trueh\\Downloads\\image-classification\\dogdata\\validation\\great_pyrenees\\6e61626e3af3ab86323ffdb883086d71.jpg: 640x640 great_pyrenees 0.59, maltese_dog 0.06, clumber 0.06, samoyed 0.05, west_highland_white_terrier 0.05, 84.5ms\n",
      "Speed: 20.6ms preprocess, 84.5ms inference, 0.0ms postprocess per image at shape (1, 3, 640, 640)\n",
      "Predicted class name: great_pyrenees\n",
      "Top 1 confidence: 0.5936264991760254\n",
      "Top 5 class names and confidences:\n",
      "1. great_pyrenees: 0.5936264991760254\n",
      "2. maltese_dog: 0.05934436619281769\n",
      "3. clumber: 0.05855037271976471\n",
      "4. samoyed: 0.0523240901529789\n",
      "5. west_highland_white_terrier: 0.045659977942705154\n"
     ]
    }
   ],
   "source": [
    "from ultralytics import YOLO\n",
    "import numpy as np\n",
    "# Load the custom model\n",
    "model = YOLO(\"best.pt\")\n",
    "# Predict with the model\n",
    "results = model.predict('dogdata/validation/great_pyrenees/6e61626e3af3ab86323ffdb883086d71.jpg')\n",
    "\n",
    "\n",
    "# Extract and print the probabilities\n",
    "probs = results[0].probs\n",
    "\n",
    "if probs is not None:\n",
    "    # Convert to a numpy array\n",
    "    probs_array = probs.numpy()\n",
    "\n",
    "    # Get the top 1 class index and its confidence\n",
    "    top1_index = probs.top1\n",
    "    top1_conf = probs.top1conf.item()  # Convert tensor to a scalar\n",
    "\n",
    "    # Get the top 5 class indices and their confidences\n",
    "    top5_indices = probs.top5\n",
    "    top5_confs = probs.top5conf.numpy()  # Convert tensor to numpy array\n",
    "\n",
    "    # Map class indices to names\n",
    "    names_dict = results[0].names\n",
    "    predicted_class_name = names_dict[top1_index]\n",
    "\n",
    "    print(f\"Predicted class name: {predicted_class_name}\")\n",
    "    print(f\"Top 1 confidence: {top1_conf}\")\n",
    "    print(\"Top 5 class names and confidences:\")\n",
    "    for i, index in enumerate(top5_indices):\n",
    "        class_name = names_dict[index]\n",
    "        confidence = top5_confs[i]\n",
    "        print(f\"{i+1}. {class_name}: {confidence}\")\n",
    "else:\n",
    "    print(\"No probabilities found in the results.\")\n"
   ]
  },
  {
   "cell_type": "markdown",
   "id": "b55215d8-2bbd-4b69-8444-a7fc4b2d293b",
   "metadata": {},
   "source": [
    "# https://docs.ultralytics.com/tasks/"
   ]
  }
 ],
 "metadata": {
  "kernelspec": {
   "display_name": "Python 3 (ipykernel)",
   "language": "python",
   "name": "python3"
  },
  "language_info": {
   "codemirror_mode": {
    "name": "ipython",
    "version": 3
   },
   "file_extension": ".py",
   "mimetype": "text/x-python",
   "name": "python",
   "nbconvert_exporter": "python",
   "pygments_lexer": "ipython3",
   "version": "3.9.19"
  }
 },
 "nbformat": 4,
 "nbformat_minor": 5
}
